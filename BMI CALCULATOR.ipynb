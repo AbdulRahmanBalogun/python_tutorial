{
 "cells": [
  {
   "cell_type": "code",
   "execution_count": 86,
   "metadata": {},
   "outputs": [],
   "source": [
    "def bmi_calculator(name, age, height_m, weight_kg):\n",
    "    bmi = weight_kg / (height_m ** 2)\n",
    "    WRA = weight_kg / age \n",
    "    print (name)\n",
    "    print (age)\n",
    "    print (\"bmi \")\n",
    "    print (bmi)\n",
    "    print (\"WRA \")\n",
    "    print (WRA)\n",
    "    if bmi > 25:\n",
    "        return name  + \" is overweight\"\n",
    "    elif bmi == 25:\n",
    "        return name + \" has a perfect weight balance\"\n",
    "    else:\n",
    "        return name  + \" is not overweight\"\n",
    "    "
   ]
  },
  {
   "cell_type": "code",
   "execution_count": 81,
   "metadata": {},
   "outputs": [],
   "source": [
    "#BMI calculator\n",
    "name1 = \"JACK\"\n",
    "age1 = 20\n",
    "height_m1 = 1.8\n",
    "weight_kg1 = 65\n",
    "\n",
    "name2 = \"KC\"\n",
    "age2 = 24\n",
    "height_m2 = 2\n",
    "weight_kg2 = 70\n",
    "\n",
    "name3 = \"JESSICA\"\n",
    "age3 = 28\n",
    "height_m3 = 2.2\n",
    "weight_kg3 = 75\n",
    "\n",
    "name4 = \"balob\"\n",
    "age4 = 16\n",
    "height_m4 = 1.3\n",
    "weight_kg4 = 60\n",
    "\n",
    "name5 = \"baloc\"\n",
    "age5 = 18\n",
    "height_m5 = 1.4\n",
    "weight_kg5 = 65\n",
    "\n",
    "name6 = \"balod\"\n",
    "age6 = 20\n",
    "height_m6 = 1.5\n",
    "weight_kg6 = 70\n",
    "\n"
   ]
  },
  {
   "cell_type": "code",
   "execution_count": 82,
   "metadata": {},
   "outputs": [
    {
     "name": "stdout",
     "output_type": "stream",
     "text": [
      "JACK\n",
      "20\n",
      "bmi \n",
      "20.061728395061728\n",
      "WRA \n",
      "3.25\n",
      "KC\n",
      "24\n",
      "bmi \n",
      "17.5\n",
      "WRA \n",
      "2.9166666666666665\n",
      "JESSICA\n",
      "28\n",
      "bmi \n",
      "15.495867768595039\n",
      "WRA \n",
      "2.6785714285714284\n",
      "balob\n",
      "16\n",
      "bmi \n",
      "35.50295857988165\n",
      "WRA \n",
      "3.75\n",
      "baloc\n",
      "18\n",
      "bmi \n",
      "33.163265306122454\n",
      "WRA \n",
      "3.611111111111111\n",
      "balod\n",
      "20\n",
      "bmi \n",
      "31.11111111111111\n",
      "WRA \n",
      "3.5\n"
     ]
    }
   ],
   "source": [
    "result1 = bmi_calculator (name1, age1, height_m1, weight_kg1)\n",
    "result2 = bmi_calculator (name2, age2, height_m2, weight_kg2)\n",
    "result3 = bmi_calculator (name3, age3, height_m3, weight_kg3)\n",
    "result4 = bmi_calculator (name4, age4, height_m4, weight_kg4)\n",
    "result5 = bmi_calculator (name5, age5, height_m5, weight_kg5)\n",
    "result6 = bmi_calculator (name6, age6, height_m6, weight_kg6)\n"
   ]
  },
  {
   "cell_type": "code",
   "execution_count": 83,
   "metadata": {},
   "outputs": [
    {
     "name": "stdout",
     "output_type": "stream",
     "text": [
      "JACK is not overweight\n",
      "KC is not overweight\n",
      "JESSICA is not overweight\n",
      "balob is overweight\n",
      "baloc is overweight\n",
      "balod is overweight\n"
     ]
    }
   ],
   "source": [
    "print (result1)\n",
    "print (result2)\n",
    "print (result3)\n",
    "print (result4)\n",
    "print (result5)\n",
    "print (result6)"
   ]
  },
  {
   "cell_type": "code",
   "execution_count": null,
   "metadata": {},
   "outputs": [],
   "source": []
  }
 ],
 "metadata": {
  "kernelspec": {
   "display_name": "Python 3",
   "language": "python",
   "name": "python3"
  },
  "language_info": {
   "codemirror_mode": {
    "name": "ipython",
    "version": 3
   },
   "file_extension": ".py",
   "mimetype": "text/x-python",
   "name": "python",
   "nbconvert_exporter": "python",
   "pygments_lexer": "ipython3",
   "version": "3.8.5"
  }
 },
 "nbformat": 4,
 "nbformat_minor": 4
}
